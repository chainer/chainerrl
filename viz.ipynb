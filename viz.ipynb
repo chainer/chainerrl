{
 "cells": [
  {
   "cell_type": "code",
   "execution_count": 41,
   "metadata": {},
   "outputs": [],
   "source": [
    "import os\n",
    "import glob\n",
    "import json\n",
    "from numpy import genfromtxt\n",
    "import matplotlib.pyplot as plt\n",
    "import numpy as np\n",
    "\n",
    "%matplotlib inline"
   ]
  },
  {
   "cell_type": "code",
   "execution_count": 52,
   "metadata": {},
   "outputs": [],
   "source": [
    "def plot_curves(files, title, labeler):\n",
    "    alldata = []\n",
    "    \n",
    "    for f in files:\n",
    "        job_id = int(f.split(\"/\")[1])\n",
    "        jobdir = \"/\".join(f.split(\"/\")[:-1]) + \"/\"\n",
    "    \n",
    "        with open(jobdir + \"command.txt\", \"r\") as f:\n",
    "            com = f.readlines()\n",
    "            \n",
    "        args = json.load(open(jobdir + \"args.txt\", \"r\"))\n",
    "        \n",
    "        label = labeler(job_id, com, args)\n",
    "        \n",
    "        if label is None:\n",
    "            continue\n",
    "        \n",
    "        data = genfromtxt(jobdir + 'scores.txt', delimiter='\\t', skip_header=1)\n",
    "        steps = data[:, 0]\n",
    "        means = data[:, 3]\n",
    "\n",
    "        #plt.plot(data[:, 0], data[:, 3])\n",
    "        alldata.append([label, job_id, steps, means])\n",
    "        \n",
    "    types = list(set([d[0] for d in alldata]))\n",
    "    \n",
    "    for t in types:\n",
    "        allmeans = []\n",
    "        \n",
    "        for label, job, steps, means in alldata:\n",
    "            if label == t:\n",
    "                allmeans.append(means)\n",
    "                s = steps\n",
    "        \n",
    "        minlen = min([len(m) for m in allmeans])\n",
    "        allmeans = [m[:minlen] for m in allmeans]\n",
    "        \n",
    "        allmeans = np.array(allmeans)\n",
    "        \n",
    "        means = np.mean(allmeans, axis=0)\n",
    "        stds = np.std(allmeans, axis=0)\n",
    "        \n",
    "        plt.plot(s[:minlen], means, label=t)\n",
    "    \n",
    "    plt.legend()\n",
    "    plt.show()"
   ]
  },
  {
   "cell_type": "code",
   "execution_count": 58,
   "metadata": {},
   "outputs": [],
   "source": [
    "def labeler(job, com, args):\n",
    "    com = com[0]\n",
    "    label = \"\"\n",
    "    \n",
    "    if 'train_dqn_gym' in com:\n",
    "        label += \"DQN\"\n",
    "    elif 'train_categorical' in com:\n",
    "        label += \"C51\"\n",
    "        \n",
    "    if args['noisy_net_sigma']:\n",
    "        label += \" noisy\"\n",
    "    \n",
    "    if args['noise_constant'] > 0:\n",
    "        label += \" constant\"\n",
    "    \n",
    "    return label"
   ]
  },
  {
   "cell_type": "code",
   "execution_count": 59,
   "metadata": {},
   "outputs": [
    {
     "data": {
      "image/png": "[encoded data removed]",
      "text/plain": [
       "<matplotlib.figure.Figure at 0x7f51a549aef0>"
      ]
     },
     "metadata": {},
     "output_type": "display_data"
    }
   ],
   "source": [
    "plot_curves(glob.glob(\"results/*/*/scores.txt\"), \"scores\", labeler)"
   ]
  },
  {
   "cell_type": "code",
   "execution_count": null,
   "metadata": {},
   "outputs": [],
   "source": []
  }
 ],
 "metadata": {
  "kernelspec": {
   "display_name": "Python 3",
   "language": "python",
   "name": "python3"
  },
  "language_info": {
   "codemirror_mode": {
    "name": "ipython",
    "version": 3
   },
   "file_extension": ".py",
   "mimetype": "text/x-python",
   "name": "python",
   "nbconvert_exporter": "python",
   "pygments_lexer": "ipython3",
   "version": "3.6.4"
  }
 },
 "nbformat": 4,
 "nbformat_minor": 2
}
